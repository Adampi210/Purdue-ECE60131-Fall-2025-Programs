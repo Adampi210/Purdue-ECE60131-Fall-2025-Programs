{
 "cells": [
  {
   "cell_type": "code",
   "execution_count": null,
   "id": "afc010f1",
   "metadata": {},
   "outputs": [
    {
     "ename": "",
     "evalue": "",
     "output_type": "error",
     "traceback": [
      "\u001b[1;31mFailed to start the Kernel. \n",
      "\u001b[1;31mImportError: /home/apiasecz/.conda/envs/ai_default/lib/python3.12/lib-dynload/_sqlite3.cpython-312-x86_64-linux-gnu.so: undefined symbol: sqlite3_deserialize. \n",
      "\u001b[1;31mView Jupyter <a href='command:jupyter.viewOutput'>log</a> for further details."
     ]
    }
   ],
   "source": [
    "import numpy as np\n",
    "\n",
    "# Define probability distributions\n",
    "# p(X1), p(X2|X1), p(X3|X2), p(X4|X3)\n",
    "p_X1 = np.array([0.5, 0.5]).reshape((2, 1, 1, 1))\n",
    "p_X2_given_X1 = np.array([[0.6, 0.2], [0.4, 0.8]]).reshape((2, 2, 1, 1))\n",
    "p_X3_given_X2 = np.array([[0.6, 0.2], [0.4, 0.8]]).reshape((1, 2, 2, 1))\n",
    "p_X4_given_X3 = np.array([[0.6, 0.2], [0.4, 0.8]]).reshape((1, 1, 2, 2))    \n",
    "\n",
    "psi_3 = (p_X4_given_X3 * p_X3_given_X2).sum(axis=2, keepdims=True)\n",
    "psi_2 = (psi_3 * p_X2_given_X1).sum(axis=1, keepdims=True)\n",
    "psi_1 = (psi_2 * p_X1)\n",
    "print(psi_1.shape)\n",
    "\n",
    "psi_1_and_X4_is_1 = psi_1[:, :, :, 1]\n",
    "psi_1_given_X4_is_1 = psi_1_and_X4_is_1 / psi_1_and_X4_is_1.sum()\n",
    "\n",
    "print(f\"p(X1|X4=1) = {psi_1_given_X4_is_1.flatten()}\")"
   ]
  }
 ],
 "metadata": {
  "kernelspec": {
   "display_name": "Python 3",
   "language": "python",
   "name": "python3"
  },
  "language_info": {
   "name": "python",
   "version": "3.12.2"
  }
 },
 "nbformat": 4,
 "nbformat_minor": 5
}
