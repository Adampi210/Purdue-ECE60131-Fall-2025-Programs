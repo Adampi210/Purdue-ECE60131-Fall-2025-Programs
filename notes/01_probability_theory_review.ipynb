{
 "cells": [
  {
   "cell_type": "markdown",
   "id": "f7bdfc01",
   "metadata": {},
   "source": [
    "Types of Generative Problems:\n",
    "\n",
    "- Item Response Theory (IRT) Model\n",
    "    - $X \\sim \\mathcal N(\\mu, \\sigma_x^2)$\n",
    "    - $D_j \\sim \\mathcal N(0, \\sigma_d^2)$\n",
    "    - $Y_{ij} \\sim \\text{Bernoulli}\\left[\\sigma(X_i - D_j)\\right]$\n",
    "    - $p(x|y) = \\frac{p(y|x)p(x)}{p(y)} = \\frac{\\prod_{i,j} p(y_{ij}|x_i, d_j) p(x) p(d)}{p(y)}$\n",
    "- Synthesize images\n",
    "    - $X \\sim p(x)$\n",
    "\n"
   ]
  },
  {
   "cell_type": "markdown",
   "id": "826aa9e4",
   "metadata": {},
   "source": [
    "### Notation\n",
    "- RVs: $X, Y, Z$\n",
    "- Realizations: $x, y, z$, vectors: $\\mathbf{x}, \\mathbf{y}, \\mathbf{z}$\n",
    "- Matrices: $A, B$\n",
    "- Parameters: $\\theta, \\phi$\n",
    "- Expectation: $\\mathbb{E}[X]$\n",
    "- Sample average: $\\frac{1}{N} \\sum_{i=1}^N x_i = <X> = \\bar{X}$\n",
    "- Variance: $\\text{Var}(X) = \\mathbb{E}[(X - \\mathbb{E}[X])^2]$\n",
    "- Covariance: $\\text{Cov}(X, Y) = \\mathbb{E}[(X - \\mathbb{E}[X])(Y - \\mathbb{E}[Y])]$\n",
    "- pdf/pmf: $p$, ex: $X_1, \\dots, X_T \\sim p(x_1, \\dots, x_T)$, $Y \\sim p(y)$\n",
    "- Data distribution: $X \\sim p(x)$\n",
    "- Model distribution: $\\hat{X} \\sim \\hat{p}(\\hat{x}; \\theta)$, $\\check{X} \\sim \\check{p}(\\check{x}; \\phi)$\n",
    "- $\\phi \\triangleq \\theta$ set parameters to something\n",
    "- $\\phi := f(\\dots)$ define as"
   ]
  },
  {
   "cell_type": "markdown",
   "id": "db0419d8",
   "metadata": {},
   "source": [
    "- $X \\sim p(x) = \\pi^x (1-\\pi)^{1-x}, \\quad x \\in \\{0,1\\}$\n",
    "- $\\sum_{x \\in \\{0,1\\}} p(x) = p(0) + p(1) = (1-\\pi) + \\pi = 1$"
   ]
  },
  {
   "cell_type": "markdown",
   "id": "c29dd01a",
   "metadata": {},
   "source": [
    "Marginalization/Independence:\n",
    "- Marginalization: $p(X) = \\int_y p(X, y) dy$, or $p(X) = \\sum_y p(X, y)$\n",
    "- Independence: $X \\perp Y$ if and only if $p(x, y) = p(x)p(y)$ for all $x, y$\n",
    "    - Independence $\\Rightarrow$ storage savings"
   ]
  },
  {
   "cell_type": "markdown",
   "id": "02702602",
   "metadata": {},
   "source": []
  }
 ],
 "metadata": {
  "language_info": {
   "name": "python"
  }
 },
 "nbformat": 4,
 "nbformat_minor": 5
}
